{
 "cells": [
  {
   "cell_type": "code",
   "execution_count": 8,
   "metadata": {},
   "outputs": [],
   "source": [
    "import os\n",
    "import glob\n",
    "import random\n",
    "import numpy as np\n",
    "import cv2\n",
    "import matplotlib\n",
    "matplotlib.use('Agg')\n",
    "import matplotlib.pyplot as plt"
   ]
  },
  {
   "cell_type": "code",
   "execution_count": 9,
   "metadata": {},
   "outputs": [],
   "source": [
    "imagePath = os.getcwd() + '/uploads/'\n",
    "histogramPath = os.getcwd() + '/static/histograms/'"
   ]
  },
  {
   "cell_type": "code",
   "execution_count": 12,
   "metadata": {},
   "outputs": [],
   "source": [
    "def image_processing(file):\n",
    "    img = cv2.imread(imagePath + str(file), cv2.IMREAD_GRAYSCALE)\n",
    "\n",
    "    fig = plt.hist(img.ravel(), 256, [0, 256])\n",
    "    plt.savefig(histogramPath + \"histogram1\")\n",
    "    random_value = str(random.randrange(10, 100, 1))\n",
    "    cancer = random.randrange(10.0, 100.0, 1)\n",
    "    cv2.imwrite(histogramPath + \"before.jpg\", img, [int(cv2.IMWRITE_JPEG_QUALITY), 95])\n",
    "\n",
    "    denoised = cv2.GaussianBlur(img, (5, 5), 0)\n",
    "\n",
    "    ret, thresh2 = cv2.threshold(denoised, 127, 255, cv2.THRESH_BINARY_INV)\n",
    "\n",
    "    denoisedTresh = cv2.GaussianBlur(thresh2, (5, 5), 0)\n",
    "\n",
    "    flood_fill = denoisedTresh.copy()\n",
    "    # Mask used to flood filling.\n",
    "    # Notice the size needs to be 2 pixels than the image.\n",
    "    h, w = denoisedTresh.shape[:2]\n",
    "    mask = np.zeros((h + 2, w + 2), np.uint8)\n",
    "\n",
    "    # Floodfill from point (0, 0)\n",
    "    cv2.floodFill(flood_fill, mask, (0, 0), 255);\n",
    "\n",
    "    # Invert floodfilled image\n",
    "    flood_fill_inv = cv2.bitwise_not(flood_fill)\n",
    "\n",
    "    # Combine the two images to get the foreground.\n",
    "    filled_out = denoisedTresh | flood_fill_inv\n",
    "\n",
    "    filter2 = cv2.Laplacian(filled_out, cv2.CV_64F)\n",
    "\n",
    "    cv2.imwrite(histogramPath + \"floodFill\" + str(random_value) + \".jpg\", flood_fill, [int(cv2.IMWRITE_JPEG_QUALITY), 95])\n",
    "    cv2.imwrite(histogramPath + \"6Out\" + str(random_value) + \".jpg\", filled_out, [int(cv2.IMWRITE_JPEG_QUALITY), 95])\n",
    "\n",
    "    cv2.imwrite(histogramPath + \"0Started\" + str(random_value) + \".jpg\", img, [int(cv2.IMWRITE_JPEG_QUALITY), 95])\n",
    "    cv2.imwrite(histogramPath + \"1denoised\" + str(random_value) + \".jpg\", denoised, [int(cv2.IMWRITE_JPEG_QUALITY), 95])\n",
    "    cv2.imwrite(histogramPath + \"3denoisedThresh\" + str(random_value) + \".jpg\", denoisedTresh, [int(cv2.IMWRITE_JPEG_QUALITY), 95])\n",
    "    cv2.imwrite(histogramPath + \"2Tresh\" + str(random_value) + \".jpg\", thresh2, [int(cv2.IMWRITE_JPEG_QUALITY), 95])\n",
    "    cv2.imwrite(histogramPath + \"4Mask\" + str(random_value) + \".jpg\", mask, [int(cv2.IMWRITE_JPEG_QUALITY), 95])\n",
    "    cv2.imwrite(histogramPath + \"5invOut\" + str(random_value) + \".jpg\", flood_fill_inv, [int(cv2.IMWRITE_JPEG_QUALITY), 95])\n",
    "\n",
    "    cv2.imwrite(histogramPath + \"7detectedEdges\" + str(random_value) + \".jpg\", filter2, [int(cv2.IMWRITE_JPEG_QUALITY), 95])\n",
    "   \n",
    "    print(filter2)\n",
    "    \n",
    "    return cancer"
   ]
  },
  {
   "cell_type": "code",
   "execution_count": 13,
   "metadata": {},
   "outputs": [
    {
     "name": "stdout",
     "output_type": "stream",
     "text": [
      "[[0. 0. 0. ... 0. 0. 0.]\n",
      " [0. 0. 0. ... 0. 0. 0.]\n",
      " [0. 0. 0. ... 0. 0. 0.]\n",
      " ...\n",
      " [0. 0. 0. ... 0. 0. 0.]\n",
      " [0. 0. 0. ... 0. 0. 0.]\n",
      " [0. 0. 0. ... 0. 0. 0.]]\n"
     ]
    }
   ],
   "source": [
    "cancer = image_processing(\"melanomaCancer.jpg\")"
   ]
  },
  {
   "cell_type": "code",
   "execution_count": null,
   "metadata": {},
   "outputs": [],
   "source": []
  }
 ],
 "metadata": {
  "kernelspec": {
   "display_name": "Python 3",
   "language": "python",
   "name": "python3"
  },
  "language_info": {
   "codemirror_mode": {
    "name": "ipython",
    "version": 3
   },
   "file_extension": ".py",
   "mimetype": "text/x-python",
   "name": "python",
   "nbconvert_exporter": "python",
   "pygments_lexer": "ipython3",
   "version": "3.6.5"
  }
 },
 "nbformat": 4,
 "nbformat_minor": 1
}
